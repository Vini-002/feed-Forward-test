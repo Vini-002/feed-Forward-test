{
 "cells": [
  {
   "cell_type": "code",
   "execution_count": 57,
   "metadata": {},
   "outputs": [
    {
     "data": {
      "text/plain": [
       "[     Time  Left  Right\n",
       " 0      46     0      0\n",
       " 1      59     0      0\n",
       " 2     103     0      0\n",
       " 3     108     0      0\n",
       " 4     113     0      0\n",
       " ..    ...   ...    ...\n",
       " 195  1068     0      0\n",
       " 196  1073     0      0\n",
       " 197  1078     0      0\n",
       " 198  1083     0      0\n",
       " 199  1088     0      0\n",
       " \n",
       " [200 rows x 3 columns],\n",
       "      Time  Left  Right\n",
       " 0       6     0      0\n",
       " 1      11     1      0\n",
       " 2      16     2      0\n",
       " 3      21     2      0\n",
       " 4      26     4      0\n",
       " ..    ...   ...    ...\n",
       " 195   981   768      1\n",
       " 196   986   773      1\n",
       " 197   991   777      1\n",
       " 198   996   781      1\n",
       " 199  1001   785      1\n",
       " \n",
       " [200 rows x 3 columns],\n",
       "      Time  Left  Right\n",
       " 0       6     1      0\n",
       " 1      11     1      0\n",
       " 2      16     2      0\n",
       " 3      21     4      0\n",
       " 4      26     6      1\n",
       " ..    ...   ...    ...\n",
       " 195   981  1394   1176\n",
       " 196   986  1402   1183\n",
       " 197   991  1409   1190\n",
       " 198   996  1417   1197\n",
       " 199  1001  1425   1204\n",
       " \n",
       " [200 rows x 3 columns],\n",
       "      Time  Left  Right\n",
       " 0       6     1      0\n",
       " 1      11     1      1\n",
       " 2      16     3      2\n",
       " 3      21     5      3\n",
       " 4      26     8      5\n",
       " ..    ...   ...    ...\n",
       " 195   981  1964   1862\n",
       " 196   986  1975   1872\n",
       " 197   991  1986   1883\n",
       " 198   996  1997   1894\n",
       " 199  1001  2008   1905\n",
       " \n",
       " [200 rows x 3 columns],\n",
       "      Time  Left  Right\n",
       " 0       6     1      0\n",
       " 1      11     1      1\n",
       " 2      16     4      2\n",
       " 3      21     7      4\n",
       " 4      26    11      7\n",
       " ..    ...   ...    ...\n",
       " 195   981  2645   2518\n",
       " 196   986  2660   2533\n",
       " 197   991  2675   2548\n",
       " 198   996  2689   2563\n",
       " 199  1001  2704   2577\n",
       " \n",
       " [200 rows x 3 columns],\n",
       "      Time  Left  Right\n",
       " 0       6     1      0\n",
       " 1      11     2      1\n",
       " 2      16     5      3\n",
       " 3      21     9      5\n",
       " 4      26    13      8\n",
       " ..    ...   ...    ...\n",
       " 195   981  3324   3152\n",
       " 196   986  3343   3170\n",
       " 197   991  3361   3188\n",
       " 198   996  3380   3206\n",
       " 199  1001  3398   3225\n",
       " \n",
       " [200 rows x 3 columns],\n",
       "      Time  Left  Right\n",
       " 0       6     0      1\n",
       " 1      11     2      2\n",
       " 2      16     6      5\n",
       " 3      21    10      8\n",
       " 4      26    16     12\n",
       " ..    ...   ...    ...\n",
       " 195   981  3981   3730\n",
       " 196   986  4004   3752\n",
       " 197   991  4026   3774\n",
       " 198   996  4048   3795\n",
       " 199  1001  4070   3817\n",
       " \n",
       " [200 rows x 3 columns],\n",
       "      Time  Left  Right\n",
       " 0       6     1      1\n",
       " 1      11     2      2\n",
       " 2      16     6      5\n",
       " 3      21    10      9\n",
       " 4      26    17     13\n",
       " ..    ...   ...    ...\n",
       " 195   981  4542   4222\n",
       " 196   986  4568   4246\n",
       " 197   991  4593   4271\n",
       " 198   996  4619   4295\n",
       " 199  1001  4644   4320\n",
       " \n",
       " [200 rows x 3 columns],\n",
       "      Time  Left  Right\n",
       " 0       6     1      1\n",
       " 1      11     4      2\n",
       " 2      16     8      4\n",
       " 3      21    14      8\n",
       " 4      26    21     12\n",
       " ..    ...   ...    ...\n",
       " 195   981  5168   4669\n",
       " 196   986  5197   4697\n",
       " 197   991  5226   4724\n",
       " 198   996  5254   4752\n",
       " 199  1001  5282   4780\n",
       " \n",
       " [200 rows x 3 columns]]"
      ]
     },
     "execution_count": 57,
     "metadata": {},
     "output_type": "execute_result"
    }
   ],
   "source": [
    "import pandas as pd\n",
    "import scipy.optimize\n",
    "from tbcontrol.responses import fopdt\n",
    "from ipywidgets import interact\n",
    "import matplotlib.pyplot as plt\n",
    "import numpy as np\n",
    "\n",
    "raw_data = \"\"\"pwm_028_19:02:54.csv\n",
    "pwm_056_19:08:13.csv\n",
    "pwm_084_19:05:44.csv\n",
    "pwm_112_19:03:33.csv\n",
    "pwm_140_19:03:44.csv\n",
    "pwm_168_19:03:53.csv\n",
    "pwm_196_19:04:00.csv\n",
    "pwm_224_19:04:06.csv\n",
    "pwm_252_19:04:13.csv\n",
    "\"\"\"\n",
    "\n",
    "data = [pd.read_csv(f\"http://192.168.0.168/exp01/{file}\", sep=' ') for file in raw_data.splitlines()]\n",
    "\n",
    "# data = pd.read_csv(\"http://192.168.0.168/view\", sep=' ')\n",
    "data"
   ]
  },
  {
   "cell_type": "code",
   "execution_count": 22,
   "metadata": {},
   "outputs": [
    {
     "data": {
      "text/html": [
       "<div>\n",
       "<style scoped>\n",
       "    .dataframe tbody tr th:only-of-type {\n",
       "        vertical-align: middle;\n",
       "    }\n",
       "\n",
       "    .dataframe tbody tr th {\n",
       "        vertical-align: top;\n",
       "    }\n",
       "\n",
       "    .dataframe thead th {\n",
       "        text-align: right;\n",
       "    }\n",
       "</style>\n",
       "<table border=\"1\" class=\"dataframe\">\n",
       "  <thead>\n",
       "    <tr style=\"text-align: right;\">\n",
       "      <th></th>\n",
       "      <th>LEFT</th>\n",
       "      <th>RIGHT</th>\n",
       "      <th>pwm</th>\n",
       "    </tr>\n",
       "  </thead>\n",
       "  <tbody>\n",
       "    <tr>\n",
       "      <th>0</th>\n",
       "      <td>1</td>\n",
       "      <td>1</td>\n",
       "      <td>140</td>\n",
       "    </tr>\n",
       "    <tr>\n",
       "      <th>1</th>\n",
       "      <td>2</td>\n",
       "      <td>1</td>\n",
       "      <td>140</td>\n",
       "    </tr>\n",
       "    <tr>\n",
       "      <th>2</th>\n",
       "      <td>4</td>\n",
       "      <td>2</td>\n",
       "      <td>140</td>\n",
       "    </tr>\n",
       "    <tr>\n",
       "      <th>3</th>\n",
       "      <td>7</td>\n",
       "      <td>4</td>\n",
       "      <td>140</td>\n",
       "    </tr>\n",
       "    <tr>\n",
       "      <th>4</th>\n",
       "      <td>11</td>\n",
       "      <td>6</td>\n",
       "      <td>140</td>\n",
       "    </tr>\n",
       "    <tr>\n",
       "      <th>...</th>\n",
       "      <td>...</td>\n",
       "      <td>...</td>\n",
       "      <td>...</td>\n",
       "    </tr>\n",
       "    <tr>\n",
       "      <th>79</th>\n",
       "      <td>1225</td>\n",
       "      <td>1038</td>\n",
       "      <td>140</td>\n",
       "    </tr>\n",
       "    <tr>\n",
       "      <th>80</th>\n",
       "      <td>1240</td>\n",
       "      <td>1052</td>\n",
       "      <td>140</td>\n",
       "    </tr>\n",
       "    <tr>\n",
       "      <th>81</th>\n",
       "      <td>1255</td>\n",
       "      <td>1066</td>\n",
       "      <td>140</td>\n",
       "    </tr>\n",
       "    <tr>\n",
       "      <th>82</th>\n",
       "      <td>1270</td>\n",
       "      <td>1081</td>\n",
       "      <td>140</td>\n",
       "    </tr>\n",
       "    <tr>\n",
       "      <th>83</th>\n",
       "      <td>1285</td>\n",
       "      <td>1095</td>\n",
       "      <td>140</td>\n",
       "    </tr>\n",
       "  </tbody>\n",
       "</table>\n",
       "<p>84 rows × 3 columns</p>\n",
       "</div>"
      ],
      "text/plain": [
       "    LEFT  RIGHT  pwm\n",
       "0      1      1  140\n",
       "1      2      1  140\n",
       "2      4      2  140\n",
       "3      7      4  140\n",
       "4     11      6  140\n",
       "..   ...    ...  ...\n",
       "79  1225   1038  140\n",
       "80  1240   1052  140\n",
       "81  1255   1066  140\n",
       "82  1270   1081  140\n",
       "83  1285   1095  140\n",
       "\n",
       "[84 rows x 3 columns]"
      ]
     },
     "execution_count": 22,
     "metadata": {},
     "output_type": "execute_result"
    }
   ],
   "source": [
    "for pwm, exp in zip(np.arange(28, 252, 28), data):\n",
    "    exp['pwm'] = pwm\n"
   ]
  },
  {
   "cell_type": "code",
   "execution_count": 64,
   "metadata": {},
   "outputs": [
    {
     "data": {
      "image/png": "[encoded data removed]",
      "text/plain": [
       "<Figure size 432x288 with 1 Axes>"
      ]
     },
     "metadata": {
      "needs_background": "light"
     },
     "output_type": "display_data"
    }
   ],
   "source": [
    "for exp in data:\n",
    "    plt.plot(exp['Left'].diff().rolling(5).mean())\n",
    "    # plt.plot(exp['Right'].diff())"
   ]
  },
  {
   "cell_type": "code",
   "execution_count": null,
   "metadata": {},
   "outputs": [],
   "source": []
  },
  {
   "cell_type": "code",
   "execution_count": 59,
   "metadata": {},
   "outputs": [
    {
     "data": {
      "text/plain": [
       "[<matplotlib.lines.Line2D at 0x7fed3f389a60>]"
      ]
     },
     "execution_count": 59,
     "metadata": {},
     "output_type": "execute_result"
    },
    {
     "data": {
      "image/png": "[encoded data removed]",
      "text/plain": [
       "<Figure size 432x288 with 1 Axes>"
      ]
     },
     "metadata": {
      "needs_background": "light"
     },
     "output_type": "display_data"
    }
   ],
   "source": [
    "left_gain = [exp['Left'].diff().iloc[-1] for exp in data]\n",
    "\n",
    "plt.plot(np.arange(28, 253, 28), left_gain, '--x')\n",
    "\n",
    "right_gain = [exp['Right'].diff().iloc[-1] for exp in data]\n",
    "\n",
    "plt.plot(np.arange(28, 253, 28), right_gain, '--x')"
   ]
  },
  {
   "cell_type": "code",
   "execution_count": 26,
   "metadata": {},
   "outputs": [
    {
     "data": {
      "text/plain": [
       "[     LEFT       RIGHT\n",
       " 0       1           0\n",
       " 1       1           0\n",
       " 2       2           0\n",
       " 3       3           0\n",
       " 4       4           0\n",
       " ..    ...         ...\n",
       " 195     0           0\n",
       " 196     0           0\n",
       " 197     0           0\n",
       " 198     0 -2126789407\n",
       " 199     0  1061163890\n",
       " \n",
       " [200 rows x 2 columns],\n",
       "      LEFT       RIGHT\n",
       " 0       0           0\n",
       " 1       1           0\n",
       " 2       2           0\n",
       " 3       4           0\n",
       " 4       6           0\n",
       " ..    ...         ...\n",
       " 195     0           0\n",
       " 196     0           0\n",
       " 197     0           0\n",
       " 198     0 -2126789407\n",
       " 199     0  1061163890\n",
       " \n",
       " [200 rows x 2 columns],\n",
       "      LEFT       RIGHT\n",
       " 0       0           1\n",
       " 1       1           1\n",
       " 2       3           2\n",
       " 3       5           4\n",
       " 4       8           6\n",
       " ..    ...         ...\n",
       " 195     0           0\n",
       " 196     0           0\n",
       " 197     0           0\n",
       " 198     0 -2126789407\n",
       " 199     0  1061163890\n",
       " \n",
       " [200 rows x 2 columns],\n",
       "      LEFT       RIGHT\n",
       " 0       1           0\n",
       " 1       2           1\n",
       " 2       4           2\n",
       " 3       7           4\n",
       " 4      11           7\n",
       " ..    ...         ...\n",
       " 195     0           0\n",
       " 196     0           0\n",
       " 197     0           0\n",
       " 198     0 -2126789407\n",
       " 199     0  1061163890\n",
       " \n",
       " [200 rows x 2 columns],\n",
       "      LEFT       RIGHT\n",
       " 0       1           0\n",
       " 1       2           1\n",
       " 2       5           3\n",
       " 3       9           6\n",
       " 4      13           9\n",
       " ..    ...         ...\n",
       " 195     0           0\n",
       " 196     0           0\n",
       " 197     0           0\n",
       " 198     0 -2126789407\n",
       " 199     0  1061163890\n",
       " \n",
       " [200 rows x 2 columns],\n",
       "      LEFT       RIGHT\n",
       " 0       1           1\n",
       " 1       2           2\n",
       " 2       6           5\n",
       " 3      10           8\n",
       " 4      15          12\n",
       " ..    ...         ...\n",
       " 195     0           0\n",
       " 196     0           0\n",
       " 197     0           0\n",
       " 198     0 -2126789407\n",
       " 199     0  1061163890\n",
       " \n",
       " [200 rows x 2 columns],\n",
       "      LEFT       RIGHT\n",
       " 0       1           0\n",
       " 1       3           2\n",
       " 2       7           5\n",
       " 3      12           8\n",
       " 4      19          12\n",
       " ..    ...         ...\n",
       " 195     0           0\n",
       " 196     0           0\n",
       " 197     0           0\n",
       " 198     0 -2126789407\n",
       " 199     0  1061163890\n",
       " \n",
       " [200 rows x 2 columns],\n",
       "      LEFT       RIGHT\n",
       " 0       1           1\n",
       " 1       3           2\n",
       " 2       7           4\n",
       " 3      13           8\n",
       " 4      20          12\n",
       " ..    ...         ...\n",
       " 195     0           0\n",
       " 196     0           0\n",
       " 197     0           0\n",
       " 198     0 -2126789407\n",
       " 199     0  1061163890\n",
       " \n",
       " [200 rows x 2 columns]]"
      ]
     },
     "execution_count": 26,
     "metadata": {},
     "output_type": "execute_result"
    }
   ],
   "source": [
    "data"
   ]
  },
  {
   "cell_type": "code",
   "execution_count": 5,
   "metadata": {},
   "outputs": [
    {
     "data": {
      "text/html": [
       "<div>\n",
       "<style scoped>\n",
       "    .dataframe tbody tr th:only-of-type {\n",
       "        vertical-align: middle;\n",
       "    }\n",
       "\n",
       "    .dataframe tbody tr th {\n",
       "        vertical-align: top;\n",
       "    }\n",
       "\n",
       "    .dataframe thead th {\n",
       "        text-align: right;\n",
       "    }\n",
       "</style>\n",
       "<table border=\"1\" class=\"dataframe\">\n",
       "  <thead>\n",
       "    <tr style=\"text-align: right;\">\n",
       "      <th></th>\n",
       "      <th>LEFT</th>\n",
       "      <th>RIGHT</th>\n",
       "    </tr>\n",
       "  </thead>\n",
       "  <tbody>\n",
       "    <tr>\n",
       "      <th>0</th>\n",
       "      <td>1</td>\n",
       "      <td>1</td>\n",
       "    </tr>\n",
       "    <tr>\n",
       "      <th>1</th>\n",
       "      <td>2</td>\n",
       "      <td>1</td>\n",
       "    </tr>\n",
       "    <tr>\n",
       "      <th>2</th>\n",
       "      <td>4</td>\n",
       "      <td>2</td>\n",
       "    </tr>\n",
       "    <tr>\n",
       "      <th>3</th>\n",
       "      <td>7</td>\n",
       "      <td>4</td>\n",
       "    </tr>\n",
       "    <tr>\n",
       "      <th>4</th>\n",
       "      <td>11</td>\n",
       "      <td>6</td>\n",
       "    </tr>\n",
       "    <tr>\n",
       "      <th>...</th>\n",
       "      <td>...</td>\n",
       "      <td>...</td>\n",
       "    </tr>\n",
       "    <tr>\n",
       "      <th>79</th>\n",
       "      <td>1225</td>\n",
       "      <td>1038</td>\n",
       "    </tr>\n",
       "    <tr>\n",
       "      <th>80</th>\n",
       "      <td>1240</td>\n",
       "      <td>1052</td>\n",
       "    </tr>\n",
       "    <tr>\n",
       "      <th>81</th>\n",
       "      <td>1255</td>\n",
       "      <td>1066</td>\n",
       "    </tr>\n",
       "    <tr>\n",
       "      <th>82</th>\n",
       "      <td>1270</td>\n",
       "      <td>1081</td>\n",
       "    </tr>\n",
       "    <tr>\n",
       "      <th>83</th>\n",
       "      <td>1285</td>\n",
       "      <td>1095</td>\n",
       "    </tr>\n",
       "  </tbody>\n",
       "</table>\n",
       "<p>84 rows × 2 columns</p>\n",
       "</div>"
      ],
      "text/plain": [
       "    LEFT  RIGHT\n",
       "0      1      1\n",
       "1      2      1\n",
       "2      4      2\n",
       "3      7      4\n",
       "4     11      6\n",
       "..   ...    ...\n",
       "79  1225   1038\n",
       "80  1240   1052\n",
       "81  1255   1066\n",
       "82  1270   1081\n",
       "83  1285   1095\n",
       "\n",
       "[84 rows x 2 columns]"
      ]
     },
     "execution_count": 5,
     "metadata": {},
     "output_type": "execute_result"
    }
   ],
   "source": [
    "pd.read_csv(\"http://192.168.0.168/exp01/pwm_140_16:38:16.csv\", sep=' ')"
   ]
  },
  {
   "cell_type": "code",
   "execution_count": 30,
   "metadata": {},
   "outputs": [
    {
     "data": {
      "text/html": [
       "<div>\n",
       "<style scoped>\n",
       "    .dataframe tbody tr th:only-of-type {\n",
       "        vertical-align: middle;\n",
       "    }\n",
       "\n",
       "    .dataframe tbody tr th {\n",
       "        vertical-align: top;\n",
       "    }\n",
       "\n",
       "    .dataframe thead th {\n",
       "        text-align: right;\n",
       "    }\n",
       "</style>\n",
       "<table border=\"1\" class=\"dataframe\">\n",
       "  <thead>\n",
       "    <tr style=\"text-align: right;\">\n",
       "      <th></th>\n",
       "      <th>LEFT</th>\n",
       "    </tr>\n",
       "  </thead>\n",
       "  <tbody>\n",
       "    <tr>\n",
       "      <th>0</th>\n",
       "      <td>3752</td>\n",
       "    </tr>\n",
       "    <tr>\n",
       "      <th>1</th>\n",
       "      <td>65AC</td>\n",
       "    </tr>\n",
       "    <tr>\n",
       "      <th>2</th>\n",
       "      <td>9260</td>\n",
       "    </tr>\n",
       "    <tr>\n",
       "      <th>3</th>\n",
       "      <td>A0E1</td>\n",
       "    </tr>\n",
       "    <tr>\n",
       "      <th>4</th>\n",
       "      <td>BF49</td>\n",
       "    </tr>\n",
       "    <tr>\n",
       "      <th>...</th>\n",
       "      <td>...</td>\n",
       "    </tr>\n",
       "    <tr>\n",
       "      <th>165</th>\n",
       "      <td>4E888</td>\n",
       "    </tr>\n",
       "    <tr>\n",
       "      <th>166</th>\n",
       "      <td>4EDB3</td>\n",
       "    </tr>\n",
       "    <tr>\n",
       "      <th>167</th>\n",
       "      <td>4F31F</td>\n",
       "    </tr>\n",
       "    <tr>\n",
       "      <th>168</th>\n",
       "      <td>4F871</td>\n",
       "    </tr>\n",
       "    <tr>\n",
       "      <th>169</th>\n",
       "      <td>4FD0D</td>\n",
       "    </tr>\n",
       "  </tbody>\n",
       "</table>\n",
       "<p>170 rows × 1 columns</p>\n",
       "</div>"
      ],
      "text/plain": [
       "      LEFT\n",
       "0     3752\n",
       "1     65AC\n",
       "2     9260\n",
       "3     A0E1\n",
       "4     BF49\n",
       "..     ...\n",
       "165  4E888\n",
       "166  4EDB3\n",
       "167  4F31F\n",
       "168  4F871\n",
       "169  4FD0D\n",
       "\n",
       "[170 rows x 1 columns]"
      ]
     },
     "execution_count": 30,
     "metadata": {},
     "output_type": "execute_result"
    }
   ],
   "source": [
    "data = pd.read_csv(\"http://192.168.0.168/view\", sep=' ')\n",
    "data"
   ]
  },
  {
   "cell_type": "code",
   "execution_count": 17,
   "metadata": {},
   "outputs": [],
   "source": [
    "data = pd.read_clipboard()"
   ]
  },
  {
   "cell_type": "code",
   "execution_count": 31,
   "metadata": {},
   "outputs": [],
   "source": [
    "data = data['LEFT'].astype('str').apply(lambda x: int(x, 16))"
   ]
  },
  {
   "cell_type": "code",
   "execution_count": 32,
   "metadata": {},
   "outputs": [
    {
     "data": {
      "text/plain": [
       "0       14162\n",
       "1       26028\n",
       "2       37472\n",
       "3       41185\n",
       "4       48969\n",
       "        ...  \n",
       "165    321672\n",
       "166    322995\n",
       "167    324383\n",
       "168    325745\n",
       "169    326925\n",
       "Name: LEFT, Length: 170, dtype: int64"
      ]
     },
     "execution_count": 32,
     "metadata": {},
     "output_type": "execute_result"
    }
   ],
   "source": [
    "data"
   ]
  },
  {
   "cell_type": "code",
   "execution_count": 1,
   "metadata": {},
   "outputs": [
    {
     "data": {
      "text/plain": [
       "1764.7058823529412"
      ]
     },
     "execution_count": 1,
     "metadata": {},
     "output_type": "execute_result"
    }
   ],
   "source": [
    "300000/170"
   ]
  },
  {
   "cell_type": "code",
   "execution_count": 11,
   "metadata": {},
   "outputs": [
    {
     "data": {
      "text/plain": [
       "0.4166666666666667"
      ]
     },
     "execution_count": 11,
     "metadata": {},
     "output_type": "execute_result"
    }
   ],
   "source": [
    "500/1200"
   ]
  },
  {
   "cell_type": "code",
   "execution_count": 5,
   "metadata": {},
   "outputs": [
    {
     "data": {
      "text/plain": [
       "0.9919121013276362"
      ]
     },
     "execution_count": 5,
     "metadata": {},
     "output_type": "execute_result"
    }
   ],
   "source": [
    "65000/65530"
   ]
  },
  {
   "cell_type": "code",
   "execution_count": 29,
   "metadata": {},
   "outputs": [
    {
     "data": {
      "text/plain": [
       "6.666666666666667"
      ]
     },
     "execution_count": 29,
     "metadata": {},
     "output_type": "execute_result"
    }
   ],
   "source": [
    "800 / 120"
   ]
  },
  {
   "cell_type": "code",
   "execution_count": 39,
   "metadata": {},
   "outputs": [
    {
     "data": {
      "text/plain": [
       "[<matplotlib.lines.Line2D at 0x7f34a1aa3f40>]"
      ]
     },
     "execution_count": 39,
     "metadata": {},
     "output_type": "execute_result"
    },
    {
     "data": {
      "image/png": "[encoded data removed]",
      "text/plain": [
       "<Figure size 432x288 with 1 Axes>"
      ]
     },
     "metadata": {
      "needs_background": "light"
     },
     "output_type": "display_data"
    }
   ],
   "source": [
    "plt.plot(data, data.index)"
   ]
  },
  {
   "cell_type": "code",
   "execution_count": null,
   "metadata": {},
   "outputs": [],
   "source": []
  },
  {
   "cell_type": "code",
   "execution_count": 45,
   "metadata": {},
   "outputs": [
    {
     "data": {
      "text/plain": [
       "<AxesSubplot:>"
      ]
     },
     "execution_count": 45,
     "metadata": {},
     "output_type": "execute_result"
    },
    {
     "data": {
      "image/png": "[encoded data removed]",
      "text/plain": [
       "<Figure size 432x288 with 1 Axes>"
      ]
     },
     "metadata": {
      "needs_background": "light"
     },
     "output_type": "display_data"
    }
   ],
   "source": [
    "data = pd.read_csv(\"include/teste01.csv\")\n",
    "data.diff().plot()"
   ]
  },
  {
   "cell_type": "code",
   "execution_count": 46,
   "metadata": {},
   "outputs": [
    {
     "ename": "KeyError",
     "evalue": "'LEFT'",
     "output_type": "error",
     "traceback": [
      "\u001b[0;31m---------------------------------------------------------------------------\u001b[0m",
      "\u001b[0;31mKeyError\u001b[0m                                  Traceback (most recent call last)",
      "File \u001b[0;32m~/miniconda3/lib/python3.9/site-packages/pandas/core/indexes/base.py:3802\u001b[0m, in \u001b[0;36mIndex.get_loc\u001b[0;34m(self, key, method, tolerance)\u001b[0m\n\u001b[1;32m   3801\u001b[0m \u001b[39mtry\u001b[39;00m:\n\u001b[0;32m-> 3802\u001b[0m     \u001b[39mreturn\u001b[39;00m \u001b[39mself\u001b[39;49m\u001b[39m.\u001b[39;49m_engine\u001b[39m.\u001b[39;49mget_loc(casted_key)\n\u001b[1;32m   3803\u001b[0m \u001b[39mexcept\u001b[39;00m \u001b[39mKeyError\u001b[39;00m \u001b[39mas\u001b[39;00m err:\n",
      "File \u001b[0;32m~/miniconda3/lib/python3.9/site-packages/pandas/_libs/index.pyx:138\u001b[0m, in \u001b[0;36mpandas._libs.index.IndexEngine.get_loc\u001b[0;34m()\u001b[0m\n",
      "File \u001b[0;32m~/miniconda3/lib/python3.9/site-packages/pandas/_libs/index.pyx:165\u001b[0m, in \u001b[0;36mpandas._libs.index.IndexEngine.get_loc\u001b[0;34m()\u001b[0m\n",
      "File \u001b[0;32mpandas/_libs/hashtable_class_helper.pxi:5745\u001b[0m, in \u001b[0;36mpandas._libs.hashtable.PyObjectHashTable.get_item\u001b[0;34m()\u001b[0m\n",
      "File \u001b[0;32mpandas/_libs/hashtable_class_helper.pxi:5753\u001b[0m, in \u001b[0;36mpandas._libs.hashtable.PyObjectHashTable.get_item\u001b[0;34m()\u001b[0m\n",
      "\u001b[0;31mKeyError\u001b[0m: 'LEFT'",
      "\nThe above exception was the direct cause of the following exception:\n",
      "\u001b[0;31mKeyError\u001b[0m                                  Traceback (most recent call last)",
      "\u001b[1;32m/home/vinicius/Documents/PlatformIO/Projects/Feedforward/processing.ipynb Cell 10\u001b[0m in \u001b[0;36m<cell line: 1>\u001b[0;34m()\u001b[0m\n\u001b[0;32m----> <a href='vscode-notebook-cell:/home/vinicius/Documents/PlatformIO/Projects/Feedforward/processing.ipynb#W2sZmlsZQ%3D%3D?line=0'>1</a>\u001b[0m ym \u001b[39m=\u001b[39m data[\u001b[39m\"\u001b[39;49m\u001b[39mLEFT\u001b[39;49m\u001b[39m\"\u001b[39;49m]\u001b[39m.\u001b[39mrolling(\u001b[39m10\u001b[39m)\u001b[39m.\u001b[39mmean()\u001b[39m.\u001b[39mdiff()\u001b[39m.\u001b[39mdropna()[:\u001b[39m350\u001b[39m]\n\u001b[1;32m      <a href='vscode-notebook-cell:/home/vinicius/Documents/PlatformIO/Projects/Feedforward/processing.ipynb#W2sZmlsZQ%3D%3D?line=2'>3</a>\u001b[0m ts \u001b[39m=\u001b[39m np\u001b[39m.\u001b[39marange(\u001b[39m350\u001b[39m)\n",
      "File \u001b[0;32m~/miniconda3/lib/python3.9/site-packages/pandas/core/frame.py:3807\u001b[0m, in \u001b[0;36mDataFrame.__getitem__\u001b[0;34m(self, key)\u001b[0m\n\u001b[1;32m   3805\u001b[0m \u001b[39mif\u001b[39;00m \u001b[39mself\u001b[39m\u001b[39m.\u001b[39mcolumns\u001b[39m.\u001b[39mnlevels \u001b[39m>\u001b[39m \u001b[39m1\u001b[39m:\n\u001b[1;32m   3806\u001b[0m     \u001b[39mreturn\u001b[39;00m \u001b[39mself\u001b[39m\u001b[39m.\u001b[39m_getitem_multilevel(key)\n\u001b[0;32m-> 3807\u001b[0m indexer \u001b[39m=\u001b[39m \u001b[39mself\u001b[39;49m\u001b[39m.\u001b[39;49mcolumns\u001b[39m.\u001b[39;49mget_loc(key)\n\u001b[1;32m   3808\u001b[0m \u001b[39mif\u001b[39;00m is_integer(indexer):\n\u001b[1;32m   3809\u001b[0m     indexer \u001b[39m=\u001b[39m [indexer]\n",
      "File \u001b[0;32m~/miniconda3/lib/python3.9/site-packages/pandas/core/indexes/base.py:3804\u001b[0m, in \u001b[0;36mIndex.get_loc\u001b[0;34m(self, key, method, tolerance)\u001b[0m\n\u001b[1;32m   3802\u001b[0m     \u001b[39mreturn\u001b[39;00m \u001b[39mself\u001b[39m\u001b[39m.\u001b[39m_engine\u001b[39m.\u001b[39mget_loc(casted_key)\n\u001b[1;32m   3803\u001b[0m \u001b[39mexcept\u001b[39;00m \u001b[39mKeyError\u001b[39;00m \u001b[39mas\u001b[39;00m err:\n\u001b[0;32m-> 3804\u001b[0m     \u001b[39mraise\u001b[39;00m \u001b[39mKeyError\u001b[39;00m(key) \u001b[39mfrom\u001b[39;00m \u001b[39merr\u001b[39;00m\n\u001b[1;32m   3805\u001b[0m \u001b[39mexcept\u001b[39;00m \u001b[39mTypeError\u001b[39;00m:\n\u001b[1;32m   3806\u001b[0m     \u001b[39m# If we have a listlike key, _check_indexing_error will raise\u001b[39;00m\n\u001b[1;32m   3807\u001b[0m     \u001b[39m#  InvalidIndexError. Otherwise we fall through and re-raise\u001b[39;00m\n\u001b[1;32m   3808\u001b[0m     \u001b[39m#  the TypeError.\u001b[39;00m\n\u001b[1;32m   3809\u001b[0m     \u001b[39mself\u001b[39m\u001b[39m.\u001b[39m_check_indexing_error(key)\n",
      "\u001b[0;31mKeyError\u001b[0m: 'LEFT'"
     ]
    }
   ],
   "source": [
    "ym = data[\"LEFT\"].rolling(10).mean().diff().dropna()[:350]\n",
    "\n",
    "ts = np.arange(350)"
   ]
  },
  {
   "cell_type": "code",
   "execution_count": 43,
   "metadata": {},
   "outputs": [],
   "source": [
    "def resultplot(K, tau, theta, y0):\n",
    "    plt.plot(data[\"LEFT\"].rolling(10).mean().diff()[:350])\n",
    "    plt.plot(ts, fopdt(ts, K, tau, theta, y0), color='red')\n",
    "    plt.show()"
   ]
  },
  {
   "cell_type": "code",
   "execution_count": 44,
   "metadata": {},
   "outputs": [
    {
     "data": {
      "application/vnd.jupyter.widget-view+json": {
       "model_id": "ec81da7a402a41889f85af82b337fec4",
       "version_major": 2,
       "version_minor": 0
      },
      "text/plain": [
       "interactive(children=(FloatSlider(value=5.5, description='K', max=10.0, min=1.0), FloatSlider(value=175.0, des…"
      ]
     },
     "metadata": {},
     "output_type": "display_data"
    }
   ],
   "source": [
    "interact(resultplot,\n",
    "         K=(1., 10.),\n",
    "         tau=(50., 300.),\n",
    "         theta=(0., 10.),\n",
    "         y0=(0., 0.));"
   ]
  },
  {
   "cell_type": "markdown",
   "metadata": {},
   "source": []
  },
  {
   "cell_type": "code",
   "execution_count": 35,
   "metadata": {},
   "outputs": [
    {
     "data": {
      "text/plain": [
       "[8.200213715008774,\n",
       " 115.28034796738272,\n",
       " -45.85721911165457,\n",
       " -1.7150673651548802]"
      ]
     },
     "execution_count": 35,
     "metadata": {},
     "output_type": "execute_result"
    }
   ],
   "source": [
    "[K, tau, theta, y0], _ = scipy.optimize.curve_fit(fopdt, ts, ym, [6.4, 108, 0.6, 0])\n",
    "[K, tau, theta, y0]"
   ]
  },
  {
   "cell_type": "code",
   "execution_count": null,
   "metadata": {},
   "outputs": [],
   "source": []
  },
  {
   "cell_type": "code",
   "execution_count": 17,
   "metadata": {},
   "outputs": [
    {
     "data": {
      "text/plain": [
       "<AxesSubplot:>"
      ]
     },
     "execution_count": 17,
     "metadata": {},
     "output_type": "execute_result"
    },
    {
     "data": {
      "image/png": "[encoded data removed]",
      "text/plain": [
       "<Figure size 432x288 with 1 Axes>"
      ]
     },
     "metadata": {
      "needs_background": "light"
     },
     "output_type": "display_data"
    }
   ],
   "source": [
    "new_data.plot()"
   ]
  },
  {
   "cell_type": "code",
   "execution_count": 12,
   "metadata": {},
   "outputs": [
    {
     "data": {
      "text/plain": [
       "<AxesSubplot:>"
      ]
     },
     "execution_count": 12,
     "metadata": {},
     "output_type": "execute_result"
    },
    {
     "data": {
      "image/png": "[encoded data removed]",
      "text/plain": [
       "<Figure size 432x288 with 1 Axes>"
      ]
     },
     "metadata": {
      "needs_background": "light"
     },
     "output_type": "display_data"
    }
   ],
   "source": [
    "new_data.diff().plot()"
   ]
  },
  {
   "cell_type": "code",
   "execution_count": 27,
   "metadata": {},
   "outputs": [
    {
     "data": {
      "text/plain": [
       "<AxesSubplot:>"
      ]
     },
     "execution_count": 27,
     "metadata": {},
     "output_type": "execute_result"
    },
    {
     "data": {
      "image/png": "[encoded data removed]",
      "text/plain": [
       "<Figure size 432x288 with 1 Axes>"
      ]
     },
     "metadata": {
      "needs_background": "light"
     },
     "output_type": "display_data"
    }
   ],
   "source": [
    "speed = new_data.rolling(10).mean().diff()\n",
    "speed[:354].plot()"
   ]
  },
  {
   "cell_type": "code",
   "execution_count": 4,
   "metadata": {},
   "outputs": [],
   "source": [
    "new_data.to_csv(\"include/teste02.csv\")"
   ]
  },
  {
   "cell_type": "code",
   "execution_count": 10,
   "metadata": {},
   "outputs": [
    {
     "data": {
      "text/plain": [
       "<AxesSubplot:>"
      ]
     },
     "execution_count": 10,
     "metadata": {},
     "output_type": "execute_result"
    },
    {
     "data": {
      "image/png": "[encoded data removed]",
      "text/plain": [
       "<Figure size 432x288 with 1 Axes>"
      ]
     },
     "metadata": {
      "needs_background": "light"
     },
     "output_type": "display_data"
    }
   ],
   "source": [
    "data[:70].diff().plot()"
   ]
  },
  {
   "cell_type": "code",
   "execution_count": 17,
   "metadata": {},
   "outputs": [
    {
     "data": {
      "text/html": [
       "<div>\n",
       "<style scoped>\n",
       "    .dataframe tbody tr th:only-of-type {\n",
       "        vertical-align: middle;\n",
       "    }\n",
       "\n",
       "    .dataframe tbody tr th {\n",
       "        vertical-align: top;\n",
       "    }\n",
       "\n",
       "    .dataframe thead th {\n",
       "        text-align: right;\n",
       "    }\n",
       "</style>\n",
       "<table border=\"1\" class=\"dataframe\">\n",
       "  <thead>\n",
       "    <tr style=\"text-align: right;\">\n",
       "      <th></th>\n",
       "      <th>LEFT</th>\n",
       "      <th>RIGHT</th>\n",
       "    </tr>\n",
       "  </thead>\n",
       "  <tbody>\n",
       "    <tr>\n",
       "      <th>0</th>\n",
       "      <td>0</td>\n",
       "      <td>0</td>\n",
       "    </tr>\n",
       "    <tr>\n",
       "      <th>1</th>\n",
       "      <td>1</td>\n",
       "      <td>1</td>\n",
       "    </tr>\n",
       "    <tr>\n",
       "      <th>2</th>\n",
       "      <td>2</td>\n",
       "      <td>1</td>\n",
       "    </tr>\n",
       "    <tr>\n",
       "      <th>3</th>\n",
       "      <td>2</td>\n",
       "      <td>1</td>\n",
       "    </tr>\n",
       "    <tr>\n",
       "      <th>4</th>\n",
       "      <td>3</td>\n",
       "      <td>1</td>\n",
       "    </tr>\n",
       "    <tr>\n",
       "      <th>...</th>\n",
       "      <td>...</td>\n",
       "      <td>...</td>\n",
       "    </tr>\n",
       "    <tr>\n",
       "      <th>95</th>\n",
       "      <td>706</td>\n",
       "      <td>548</td>\n",
       "    </tr>\n",
       "    <tr>\n",
       "      <th>96</th>\n",
       "      <td>718</td>\n",
       "      <td>558</td>\n",
       "    </tr>\n",
       "    <tr>\n",
       "      <th>97</th>\n",
       "      <td>730</td>\n",
       "      <td>569</td>\n",
       "    </tr>\n",
       "    <tr>\n",
       "      <th>98</th>\n",
       "      <td>741</td>\n",
       "      <td>580</td>\n",
       "    </tr>\n",
       "    <tr>\n",
       "      <th>99</th>\n",
       "      <td>753</td>\n",
       "      <td>590</td>\n",
       "    </tr>\n",
       "  </tbody>\n",
       "</table>\n",
       "<p>100 rows × 2 columns</p>\n",
       "</div>"
      ],
      "text/plain": [
       "    LEFT  RIGHT\n",
       "0      0      0\n",
       "1      1      1\n",
       "2      2      1\n",
       "3      2      1\n",
       "4      3      1\n",
       "..   ...    ...\n",
       "95   706    548\n",
       "96   718    558\n",
       "97   730    569\n",
       "98   741    580\n",
       "99   753    590\n",
       "\n",
       "[100 rows x 2 columns]"
      ]
     },
     "execution_count": 17,
     "metadata": {},
     "output_type": "execute_result"
    }
   ],
   "source": [
    "data_track = pd.read_clipboard(\", \")\n",
    "data_track"
   ]
  },
  {
   "cell_type": "code",
   "execution_count": 18,
   "metadata": {},
   "outputs": [
    {
     "data": {
      "text/plain": [
       "<AxesSubplot:>"
      ]
     },
     "execution_count": 18,
     "metadata": {},
     "output_type": "execute_result"
    },
    {
     "data": {
      "image/png": "[encoded data removed]",
      "text/plain": [
       "<Figure size 432x288 with 1 Axes>"
      ]
     },
     "metadata": {
      "needs_background": "light"
     },
     "output_type": "display_data"
    }
   ],
   "source": [
    "data_track.diff().plot()"
   ]
  },
  {
   "cell_type": "code",
   "execution_count": 19,
   "metadata": {},
   "outputs": [
    {
     "data": {
      "text/html": [
       "<div>\n",
       "<style scoped>\n",
       "    .dataframe tbody tr th:only-of-type {\n",
       "        vertical-align: middle;\n",
       "    }\n",
       "\n",
       "    .dataframe tbody tr th {\n",
       "        vertical-align: top;\n",
       "    }\n",
       "\n",
       "    .dataframe thead th {\n",
       "        text-align: right;\n",
       "    }\n",
       "</style>\n",
       "<table border=\"1\" class=\"dataframe\">\n",
       "  <thead>\n",
       "    <tr style=\"text-align: right;\">\n",
       "      <th></th>\n",
       "      <th>LEFT,</th>\n",
       "      <th>RIGHT</th>\n",
       "    </tr>\n",
       "  </thead>\n",
       "  <tbody>\n",
       "    <tr>\n",
       "      <th>0</th>\n",
       "      <td>0</td>\n",
       "      <td>0</td>\n",
       "    </tr>\n",
       "    <tr>\n",
       "      <th>1</th>\n",
       "      <td>1</td>\n",
       "      <td>0</td>\n",
       "    </tr>\n",
       "    <tr>\n",
       "      <th>2</th>\n",
       "      <td>1</td>\n",
       "      <td>1</td>\n",
       "    </tr>\n",
       "    <tr>\n",
       "      <th>3</th>\n",
       "      <td>2</td>\n",
       "      <td>1</td>\n",
       "    </tr>\n",
       "    <tr>\n",
       "      <th>4</th>\n",
       "      <td>2</td>\n",
       "      <td>1</td>\n",
       "    </tr>\n",
       "    <tr>\n",
       "      <th>...</th>\n",
       "      <td>...</td>\n",
       "      <td>...</td>\n",
       "    </tr>\n",
       "    <tr>\n",
       "      <th>395</th>\n",
       "      <td>1526</td>\n",
       "      <td>1450</td>\n",
       "    </tr>\n",
       "    <tr>\n",
       "      <th>396</th>\n",
       "      <td>1526</td>\n",
       "      <td>1450</td>\n",
       "    </tr>\n",
       "    <tr>\n",
       "      <th>397</th>\n",
       "      <td>1526</td>\n",
       "      <td>1450</td>\n",
       "    </tr>\n",
       "    <tr>\n",
       "      <th>398</th>\n",
       "      <td>1526</td>\n",
       "      <td>1450</td>\n",
       "    </tr>\n",
       "    <tr>\n",
       "      <th>399</th>\n",
       "      <td>1526</td>\n",
       "      <td>1450</td>\n",
       "    </tr>\n",
       "  </tbody>\n",
       "</table>\n",
       "<p>400 rows × 2 columns</p>\n",
       "</div>"
      ],
      "text/plain": [
       "     LEFT,  RIGHT\n",
       "0        0      0\n",
       "1        1      0\n",
       "2        1      1\n",
       "3        2      1\n",
       "4        2      1\n",
       "..     ...    ...\n",
       "395   1526   1450\n",
       "396   1526   1450\n",
       "397   1526   1450\n",
       "398   1526   1450\n",
       "399   1526   1450\n",
       "\n",
       "[400 rows x 2 columns]"
      ]
     },
     "execution_count": 19,
     "metadata": {},
     "output_type": "execute_result"
    }
   ],
   "source": [
    "data_complete = pd.read_clipboard()\n",
    "data_complete"
   ]
  }
 ],
 "metadata": {
  "interpreter": {
   "hash": "688d4ec79b5c2d8c39c50be4f9b928cee1b0c709839f80242bb54f3231e35abf"
  },
  "kernelspec": {
   "display_name": "Python 3.9.1 64-bit",
   "language": "python",
   "name": "python3"
  },
  "language_info": {
   "codemirror_mode": {
    "name": "ipython",
    "version": 3
   },
   "file_extension": ".py",
   "mimetype": "text/x-python",
   "name": "python",
   "nbconvert_exporter": "python",
   "pygments_lexer": "ipython3",
   "version": "3.9.12"
  },
  "orig_nbformat": 4
 },
 "nbformat": 4,
 "nbformat_minor": 2
}
